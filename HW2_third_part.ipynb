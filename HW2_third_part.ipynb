{
 "cells": [
  {
   "cell_type": "markdown",
   "id": "bd6f74e2",
   "metadata": {},
   "source": [
    "### Student Information\n",
    "### This notebook is the third part of lab2.\n",
    "Name:李昕紘 (LI, HSIN-HUNG)\n",
    "\n",
    "Student ID: 110013504\n",
    "\n",
    "GitHub ID: HSIN-HUNG LI\n",
    "\n",
    "Kaggle name: timleeeee\n",
    "\n",
    "Kaggle private scoreboard snapshot: Private Rank: #26"
   ]
  },
  {
   "cell_type": "markdown",
   "id": "c63a787e",
   "metadata": {},
   "source": [
    "![Snapshot](img/pic0.png)"
   ]
  },
  {
   "cell_type": "markdown",
   "id": "2be2c3da",
   "metadata": {},
   "source": [
    "# Third part \n",
    "### A report of your work developping the model for the competition (You can use code and comment it). This report should include what your preprocessing steps, the feature engineering steps and an explanation of your model. You can also mention different things you tried and insights you gained."
   ]
  },
  {
   "cell_type": "markdown",
   "id": "2dddaf80",
   "metadata": {},
   "source": [
    "### 讀取JSON檔案中的資訊，其中包括text, tweed_it 以及 emotion。"
   ]
  },
  {
   "cell_type": "code",
   "execution_count": 38,
   "id": "82805eb0",
   "metadata": {},
   "outputs": [],
   "source": [
    "import numpy as np\n",
    "import pandas as pd\n",
    "import matplotlib.pyplot as plt\n",
    "import json\n",
    "from glom import glom\n",
    "df_data = pd.read_json('data/tweets_DM.json', lines=True)\n",
    "df_tweet = pd.DataFrame(list(df_data['_source'].apply(lambda row: glom(row, 'tweet'))))\n",
    "del df_data\n"
   ]
  },
  {
   "cell_type": "code",
   "execution_count": 39,
   "id": "62666fa6",
   "metadata": {},
   "outputs": [
    {
     "data": {
      "text/html": [
       "<div>\n",
       "<style scoped>\n",
       "    .dataframe tbody tr th:only-of-type {\n",
       "        vertical-align: middle;\n",
       "    }\n",
       "\n",
       "    .dataframe tbody tr th {\n",
       "        vertical-align: top;\n",
       "    }\n",
       "\n",
       "    .dataframe thead th {\n",
       "        text-align: right;\n",
       "    }\n",
       "</style>\n",
       "<table border=\"1\" class=\"dataframe\">\n",
       "  <thead>\n",
       "    <tr style=\"text-align: right;\">\n",
       "      <th></th>\n",
       "      <th>tweet_id</th>\n",
       "      <th>text</th>\n",
       "      <th>emotion</th>\n",
       "    </tr>\n",
       "  </thead>\n",
       "  <tbody>\n",
       "    <tr>\n",
       "      <th>0</th>\n",
       "      <td>0x376b20</td>\n",
       "      <td>People who post \"add me on #Snapchat\" must be ...</td>\n",
       "      <td>anticipation</td>\n",
       "    </tr>\n",
       "    <tr>\n",
       "      <th>1</th>\n",
       "      <td>0x2d5350</td>\n",
       "      <td>@brianklaas As we see, Trump is dangerous to #...</td>\n",
       "      <td>sadness</td>\n",
       "    </tr>\n",
       "    <tr>\n",
       "      <th>2</th>\n",
       "      <td>0x1cd5b0</td>\n",
       "      <td>Now ISSA is stalking Tasha 😂😂😂 &lt;LH&gt;</td>\n",
       "      <td>fear</td>\n",
       "    </tr>\n",
       "  </tbody>\n",
       "</table>\n",
       "</div>"
      ],
      "text/plain": [
       "   tweet_id                                               text       emotion\n",
       "0  0x376b20  People who post \"add me on #Snapchat\" must be ...  anticipation\n",
       "1  0x2d5350  @brianklaas As we see, Trump is dangerous to #...       sadness\n",
       "2  0x1cd5b0                Now ISSA is stalking Tasha 😂😂😂 <LH>          fear"
      ]
     },
     "execution_count": 39,
     "metadata": {},
     "output_type": "execute_result"
    }
   ],
   "source": [
    "df_emotion = pd.read_csv('data/emotion.csv', sep = \",\")\n",
    "df_sample = pd.read_csv('data/sampleSubmission.csv', sep = \",\")\n",
    "df_train = pd.merge(df_tweet, df_emotion, on='tweet_id')\n",
    "df_train = df_train.drop(columns=['hashtags'])\n",
    "df_sample.rename(columns = {'id':'tweet_id'}, inplace = True)\n",
    "df_train.to_csv('data/train_original.csv') \n",
    "df_train.head(3)"
   ]
  },
  {
   "cell_type": "markdown",
   "id": "ce833605",
   "metadata": {},
   "source": [
    "### 觀察train以及test_sample的大小，並利用tweet_id來合併sample，但是因為需要做文字前處理，因此先打包輸出成一原始資料檔案。\n"
   ]
  },
  {
   "cell_type": "code",
   "execution_count": 40,
   "id": "4ae06ccc",
   "metadata": {},
   "outputs": [
    {
     "name": "stdout",
     "output_type": "stream",
     "text": [
      "df_train.shape = \n",
      "(1455563, 3)\n",
      "df_predict.shape = \n",
      "(411972, 2)\n"
     ]
    },
    {
     "data": {
      "text/html": [
       "<div>\n",
       "<style scoped>\n",
       "    .dataframe tbody tr th:only-of-type {\n",
       "        vertical-align: middle;\n",
       "    }\n",
       "\n",
       "    .dataframe tbody tr th {\n",
       "        vertical-align: top;\n",
       "    }\n",
       "\n",
       "    .dataframe thead th {\n",
       "        text-align: right;\n",
       "    }\n",
       "</style>\n",
       "<table border=\"1\" class=\"dataframe\">\n",
       "  <thead>\n",
       "    <tr style=\"text-align: right;\">\n",
       "      <th></th>\n",
       "      <th>tweet_id</th>\n",
       "      <th>emotion</th>\n",
       "    </tr>\n",
       "  </thead>\n",
       "  <tbody>\n",
       "    <tr>\n",
       "      <th>0</th>\n",
       "      <td>0x2c7743</td>\n",
       "      <td>surprise</td>\n",
       "    </tr>\n",
       "    <tr>\n",
       "      <th>1</th>\n",
       "      <td>0x2c1eed</td>\n",
       "      <td>surprise</td>\n",
       "    </tr>\n",
       "    <tr>\n",
       "      <th>2</th>\n",
       "      <td>0x2826ea</td>\n",
       "      <td>surprise</td>\n",
       "    </tr>\n",
       "  </tbody>\n",
       "</table>\n",
       "</div>"
      ],
      "text/plain": [
       "   tweet_id   emotion\n",
       "0  0x2c7743  surprise\n",
       "1  0x2c1eed  surprise\n",
       "2  0x2826ea  surprise"
      ]
     },
     "execution_count": 40,
     "metadata": {},
     "output_type": "execute_result"
    }
   ],
   "source": [
    "print('df_train.shape = ')\n",
    "print(df_train.shape)\n",
    "print('df_predict.shape = ')\n",
    "print(df_sample.shape)\n",
    "df_sample.head(3)"
   ]
  },
  {
   "cell_type": "code",
   "execution_count": 41,
   "id": "6308e658",
   "metadata": {},
   "outputs": [
    {
     "data": {
      "text/html": [
       "<div>\n",
       "<style scoped>\n",
       "    .dataframe tbody tr th:only-of-type {\n",
       "        vertical-align: middle;\n",
       "    }\n",
       "\n",
       "    .dataframe tbody tr th {\n",
       "        vertical-align: top;\n",
       "    }\n",
       "\n",
       "    .dataframe thead th {\n",
       "        text-align: right;\n",
       "    }\n",
       "</style>\n",
       "<table border=\"1\" class=\"dataframe\">\n",
       "  <thead>\n",
       "    <tr style=\"text-align: right;\">\n",
       "      <th></th>\n",
       "      <th>tweet_id</th>\n",
       "      <th>emotion</th>\n",
       "      <th>text</th>\n",
       "    </tr>\n",
       "  </thead>\n",
       "  <tbody>\n",
       "    <tr>\n",
       "      <th>0</th>\n",
       "      <td>0x2c7743</td>\n",
       "      <td>surprise</td>\n",
       "      <td>When your friends offer to bring you food 😭💘 #...</td>\n",
       "    </tr>\n",
       "    <tr>\n",
       "      <th>1</th>\n",
       "      <td>0x2c1eed</td>\n",
       "      <td>surprise</td>\n",
       "      <td>I've never let any money problems stop me.. I ...</td>\n",
       "    </tr>\n",
       "    <tr>\n",
       "      <th>2</th>\n",
       "      <td>0x2826ea</td>\n",
       "      <td>surprise</td>\n",
       "      <td>@KurtSchlichter Being a Hobby Historian Chelse...</td>\n",
       "    </tr>\n",
       "  </tbody>\n",
       "</table>\n",
       "</div>"
      ],
      "text/plain": [
       "   tweet_id   emotion                                               text\n",
       "0  0x2c7743  surprise  When your friends offer to bring you food 😭💘 #...\n",
       "1  0x2c1eed  surprise  I've never let any money problems stop me.. I ...\n",
       "2  0x2826ea  surprise  @KurtSchlichter Being a Hobby Historian Chelse..."
      ]
     },
     "execution_count": 41,
     "metadata": {},
     "output_type": "execute_result"
    }
   ],
   "source": [
    "df_predict_original=pd.merge(df_sample, df_tweet,how=\"left\",on=\"tweet_id\")\n",
    "df_predict_original = df_predict_original.drop(columns=['hashtags'])\n",
    "df_predict_original.to_csv('data/pred_original.csv') \n",
    "df_predict_original.head(3)"
   ]
  },
  {
   "cell_type": "markdown",
   "id": "5ec68a2b",
   "metadata": {},
   "source": [
    "### 將 emotion 改為數字編碼來區分，編碼結果如下，並分析不同類別的數量，可以發現joy異常的多，相較於最少的類別anger，差距10倍以上，但是考量到Kaggle上的test data同樣會有這樣imbalance的問題，因此需要以這樣的比例進行training。"
   ]
  },
  {
   "cell_type": "code",
   "execution_count": 42,
   "id": "cc76fd9b",
   "metadata": {},
   "outputs": [
    {
     "data": {
      "text/plain": [
       "{'anticipation': 0,\n",
       " 'sadness': 1,\n",
       " 'fear': 2,\n",
       " 'joy': 3,\n",
       " 'anger': 4,\n",
       " 'trust': 5,\n",
       " 'disgust': 6,\n",
       " 'surprise': 7}"
      ]
     },
     "execution_count": 42,
     "metadata": {},
     "output_type": "execute_result"
    }
   ],
   "source": [
    "unique_labels = df_train.emotion.unique()\n",
    "label_dict = {}\n",
    "for index, possible_label in enumerate(unique_labels):\n",
    "    label_dict[possible_label] = index\n",
    "    \n",
    "df_train['label'] = df_train.emotion.replace(label_dict)\n",
    "label_dict"
   ]
  },
  {
   "cell_type": "code",
   "execution_count": 43,
   "id": "ed7e56f4",
   "metadata": {},
   "outputs": [
    {
     "data": {
      "image/png": "[encoded data removed]",
      "text/plain": [
       "<Figure size 360x360 with 1 Axes>"
      ]
     },
     "metadata": {},
     "output_type": "display_data"
    }
   ],
   "source": [
    "import matplotlib.pyplot as plt\n",
    "import seaborn as sns\n",
    "sns.set_theme(style=\"ticks\")\n",
    "sns.set_context(\"paper\", font_scale=1.2)   \n",
    "plt.rcParams[\"font.family\"] = \"serif\"\n",
    "plt.rcParams[\"font.serif\"] = \"Times New Roman\" \n",
    "plt.rcParams['figure.figsize'] = (5,5)\n",
    "# plt.bar(df_train.index,df_train['emotion'])\n",
    "sns.countplot(x=df_train['emotion'],hue = df_train['emotion'])\n",
    "plt.legend(loc = 'upper right')\n",
    "plt.xticks(rotation = 45)\n",
    "plt.show()"
   ]
  },
  {
   "cell_type": "markdown",
   "id": "a97f5f23",
   "metadata": {},
   "source": [
    "### 檢查 null in text column"
   ]
  },
  {
   "cell_type": "code",
   "execution_count": 44,
   "id": "6db5d1fd",
   "metadata": {},
   "outputs": [
    {
     "name": "stdout",
     "output_type": "stream",
     "text": [
      "count     1455563\n",
      "unique          1\n",
      "top         False\n",
      "freq      1455563\n",
      "Name: text, dtype: object\n"
     ]
    },
    {
     "data": {
      "text/html": [
       "<div>\n",
       "<style scoped>\n",
       "    .dataframe tbody tr th:only-of-type {\n",
       "        vertical-align: middle;\n",
       "    }\n",
       "\n",
       "    .dataframe tbody tr th {\n",
       "        vertical-align: top;\n",
       "    }\n",
       "\n",
       "    .dataframe thead th {\n",
       "        text-align: right;\n",
       "    }\n",
       "</style>\n",
       "<table border=\"1\" class=\"dataframe\">\n",
       "  <thead>\n",
       "    <tr style=\"text-align: right;\">\n",
       "      <th></th>\n",
       "      <th>tweet_id</th>\n",
       "      <th>text</th>\n",
       "      <th>emotion</th>\n",
       "      <th>label</th>\n",
       "    </tr>\n",
       "  </thead>\n",
       "  <tbody>\n",
       "    <tr>\n",
       "      <th>0</th>\n",
       "      <td>0x376b20</td>\n",
       "      <td>People who post \"add me on #Snapchat\" must be ...</td>\n",
       "      <td>anticipation</td>\n",
       "      <td>0</td>\n",
       "    </tr>\n",
       "    <tr>\n",
       "      <th>1</th>\n",
       "      <td>0x2d5350</td>\n",
       "      <td>@brianklaas As we see, Trump is dangerous to #...</td>\n",
       "      <td>sadness</td>\n",
       "      <td>1</td>\n",
       "    </tr>\n",
       "    <tr>\n",
       "      <th>2</th>\n",
       "      <td>0x1cd5b0</td>\n",
       "      <td>Now ISSA is stalking Tasha 😂😂😂 &lt;LH&gt;</td>\n",
       "      <td>fear</td>\n",
       "      <td>2</td>\n",
       "    </tr>\n",
       "    <tr>\n",
       "      <th>3</th>\n",
       "      <td>0x1d755c</td>\n",
       "      <td>@RISKshow @TheKevinAllison Thx for the BEST TI...</td>\n",
       "      <td>joy</td>\n",
       "      <td>3</td>\n",
       "    </tr>\n",
       "    <tr>\n",
       "      <th>4</th>\n",
       "      <td>0x2c91a8</td>\n",
       "      <td>Still waiting on those supplies Liscus. &lt;LH&gt;</td>\n",
       "      <td>anticipation</td>\n",
       "      <td>0</td>\n",
       "    </tr>\n",
       "  </tbody>\n",
       "</table>\n",
       "</div>"
      ],
      "text/plain": [
       "   tweet_id                                               text       emotion  \\\n",
       "0  0x376b20  People who post \"add me on #Snapchat\" must be ...  anticipation   \n",
       "1  0x2d5350  @brianklaas As we see, Trump is dangerous to #...       sadness   \n",
       "2  0x1cd5b0                Now ISSA is stalking Tasha 😂😂😂 <LH>          fear   \n",
       "3  0x1d755c  @RISKshow @TheKevinAllison Thx for the BEST TI...           joy   \n",
       "4  0x2c91a8       Still waiting on those supplies Liscus. <LH>  anticipation   \n",
       "\n",
       "   label  \n",
       "0      0  \n",
       "1      1  \n",
       "2      2  \n",
       "3      3  \n",
       "4      0  "
      ]
     },
     "execution_count": 44,
     "metadata": {},
     "output_type": "execute_result"
    }
   ],
   "source": [
    "print(df_train['text'].isnull().describe())\n",
    "df_train.head(5)"
   ]
  },
  {
   "cell_type": "markdown",
   "id": "d61dd492",
   "metadata": {},
   "source": [
    "### 本作業發現不同類別的資料量具有顯著的差異，而且受限於硬體緣故，因此只能選擇以少量且各類別數量相等來進行訓練。\n",
    "### 一開始先選擇1000個進行訓練，方便進行程式除錯。"
   ]
  },
  {
   "cell_type": "code",
   "execution_count": 45,
   "id": "38d3f957",
   "metadata": {},
   "outputs": [],
   "source": [
    "from random import sample\n",
    "sample_random_state = 11\n",
    "n_sample = 1000\n",
    "df_train = df_train.sample(n_sample,random_state = sample_random_state)"
   ]
  },
  {
   "cell_type": "code",
   "execution_count": 46,
   "id": "9b948b0a",
   "metadata": {},
   "outputs": [
    {
     "data": {
      "text/plain": [
       "3    335\n",
       "0    185\n",
       "1    145\n",
       "5    140\n",
       "6     86\n",
       "2     49\n",
       "7     40\n",
       "4     20\n",
       "Name: label, dtype: int64"
      ]
     },
     "execution_count": 46,
     "metadata": {},
     "output_type": "execute_result"
    }
   ],
   "source": [
    "df_train.label.value_counts()"
   ]
  },
  {
   "cell_type": "markdown",
   "id": "697102b9",
   "metadata": {},
   "source": [
    "### 將 train data 分成 training 以及 validation data 用來評估 model 的好壞 "
   ]
  },
  {
   "cell_type": "code",
   "execution_count": 47,
   "id": "9b9dbd6d",
   "metadata": {},
   "outputs": [
    {
     "data": {
      "text/html": [
       "<div>\n",
       "<style scoped>\n",
       "    .dataframe tbody tr th:only-of-type {\n",
       "        vertical-align: middle;\n",
       "    }\n",
       "\n",
       "    .dataframe tbody tr th {\n",
       "        vertical-align: top;\n",
       "    }\n",
       "\n",
       "    .dataframe thead th {\n",
       "        text-align: right;\n",
       "    }\n",
       "</style>\n",
       "<table border=\"1\" class=\"dataframe\">\n",
       "  <thead>\n",
       "    <tr style=\"text-align: right;\">\n",
       "      <th></th>\n",
       "      <th>tweet_id</th>\n",
       "      <th>text</th>\n",
       "      <th>emotion</th>\n",
       "      <th>label</th>\n",
       "      <th>data_type</th>\n",
       "    </tr>\n",
       "  </thead>\n",
       "  <tbody>\n",
       "    <tr>\n",
       "      <th>547720</th>\n",
       "      <td>0x24a8df</td>\n",
       "      <td>Off to Fleet services tomorrow to meet a very ...</td>\n",
       "      <td>anticipation</td>\n",
       "      <td>0</td>\n",
       "      <td>train</td>\n",
       "    </tr>\n",
       "    <tr>\n",
       "      <th>671567</th>\n",
       "      <td>0x2b7ba8</td>\n",
       "      <td>@WildlifeMag @naturepl Marbled White &lt;LH&gt; unfo...</td>\n",
       "      <td>joy</td>\n",
       "      <td>3</td>\n",
       "      <td>train</td>\n",
       "    </tr>\n",
       "    <tr>\n",
       "      <th>780017</th>\n",
       "      <td>0x1fd85f</td>\n",
       "      <td>Haha iSentia down 41% in Aus sharemarket &lt;LH&gt;</td>\n",
       "      <td>disgust</td>\n",
       "      <td>6</td>\n",
       "      <td>train</td>\n",
       "    </tr>\n",
       "    <tr>\n",
       "      <th>902802</th>\n",
       "      <td>0x1caa20</td>\n",
       "      <td>So this is kinda sorta maybe the payoff to all...</td>\n",
       "      <td>disgust</td>\n",
       "      <td>6</td>\n",
       "      <td>train</td>\n",
       "    </tr>\n",
       "    <tr>\n",
       "      <th>149072</th>\n",
       "      <td>0x226e77</td>\n",
       "      <td>@_kashiaaaxo he really do &lt;LH&gt;</td>\n",
       "      <td>joy</td>\n",
       "      <td>3</td>\n",
       "      <td>train</td>\n",
       "    </tr>\n",
       "    <tr>\n",
       "      <th>1231155</th>\n",
       "      <td>0x3772f0</td>\n",
       "      <td>@haanjichandan Happy Diwali to you and your fa...</td>\n",
       "      <td>joy</td>\n",
       "      <td>3</td>\n",
       "      <td>train</td>\n",
       "    </tr>\n",
       "    <tr>\n",
       "      <th>1314688</th>\n",
       "      <td>0x2d5aed</td>\n",
       "      <td>Attitude is a little thing that makes a big di...</td>\n",
       "      <td>anticipation</td>\n",
       "      <td>0</td>\n",
       "      <td>train</td>\n",
       "    </tr>\n",
       "    <tr>\n",
       "      <th>1240215</th>\n",
       "      <td>0x385b8a</td>\n",
       "      <td>Hey Baby Brain Developme thanks for the follow...</td>\n",
       "      <td>trust</td>\n",
       "      <td>5</td>\n",
       "      <td>train</td>\n",
       "    </tr>\n",
       "    <tr>\n",
       "      <th>1145807</th>\n",
       "      <td>0x2e426a</td>\n",
       "      <td>Look for #opportunities #today to be good, to ...</td>\n",
       "      <td>anticipation</td>\n",
       "      <td>0</td>\n",
       "      <td>val</td>\n",
       "    </tr>\n",
       "    <tr>\n",
       "      <th>576065</th>\n",
       "      <td>0x2c1c4e</td>\n",
       "      <td>I may never be rich and famous but the things ...</td>\n",
       "      <td>trust</td>\n",
       "      <td>5</td>\n",
       "      <td>val</td>\n",
       "    </tr>\n",
       "  </tbody>\n",
       "</table>\n",
       "</div>"
      ],
      "text/plain": [
       "         tweet_id                                               text  \\\n",
       "547720   0x24a8df  Off to Fleet services tomorrow to meet a very ...   \n",
       "671567   0x2b7ba8  @WildlifeMag @naturepl Marbled White <LH> unfo...   \n",
       "780017   0x1fd85f      Haha iSentia down 41% in Aus sharemarket <LH>   \n",
       "902802   0x1caa20  So this is kinda sorta maybe the payoff to all...   \n",
       "149072   0x226e77                     @_kashiaaaxo he really do <LH>   \n",
       "1231155  0x3772f0  @haanjichandan Happy Diwali to you and your fa...   \n",
       "1314688  0x2d5aed  Attitude is a little thing that makes a big di...   \n",
       "1240215  0x385b8a  Hey Baby Brain Developme thanks for the follow...   \n",
       "1145807  0x2e426a  Look for #opportunities #today to be good, to ...   \n",
       "576065   0x2c1c4e  I may never be rich and famous but the things ...   \n",
       "\n",
       "              emotion  label data_type  \n",
       "547720   anticipation      0     train  \n",
       "671567            joy      3     train  \n",
       "780017        disgust      6     train  \n",
       "902802        disgust      6     train  \n",
       "149072            joy      3     train  \n",
       "1231155           joy      3     train  \n",
       "1314688  anticipation      0     train  \n",
       "1240215         trust      5     train  \n",
       "1145807  anticipation      0       val  \n",
       "576065          trust      5       val  "
      ]
     },
     "execution_count": 47,
     "metadata": {},
     "output_type": "execute_result"
    }
   ],
   "source": [
    "from sklearn.model_selection import train_test_split\n",
    "X_train, X_val, y_train, y_val = \\\n",
    "    train_test_split(df_train.index.values, df_train.label.values, \\\n",
    "                     test_size = 0.15, random_state=17, \\\n",
    "                         stratify = df_train.label.values)\n",
    "\n",
    "df_train['data_type'] = ['not_set']*df_train.shape[0]\n",
    "df_train.loc[X_train, 'data_type'] = 'train'\n",
    "df_train.loc[X_val, 'data_type'] = 'val'\n",
    "df_train.to_csv('data/train_val_out1.csv') \n",
    "df_train.head(10)"
   ]
  },
  {
   "cell_type": "markdown",
   "id": "c6912566",
   "metadata": {},
   "source": [
    "### 接下來將進行data preprocessing，主要步驟如下: \n",
    "1. 將所有字母轉成小寫。\n",
    "2.移除所有標點符號，像是!%&\\'()*+,-./:;<=>?@[\\\\]^_{|}~等等。\n",
    "3. 移除stopwords，這是一種語言中經常出現的詞，例如“the”、“a”等。 可以將它們從文本中刪除，因為它們不會為接下來的整句話提供有價值的信息。\n",
    "4. 進行Lemmatization，這項工具類似於上課所教學的stemming，但是他確保root word (lemma)是符合該語言的。也因為如此，通常這樣的訓練方式會比stemming來的更久，本作業使用nltk 中的 WordNetLemmatizer。\n"
   ]
  },
  {
   "cell_type": "code",
   "execution_count": 48,
   "id": "e7d924cd",
   "metadata": {},
   "outputs": [],
   "source": [
    "import numpy as np\n",
    "import pandas as pd\n",
    "import re\n",
    "import nltk\n",
    "# nltk.download('stopwords')\n",
    "# nltk.download('wordnet')\n",
    "# nltk.download('omw-1.4')\n",
    "# nltk.download('averaged_perceptron_tagger')\n",
    "import string\n",
    "from nltk.corpus import stopwords\n",
    "from collections import Counter\n",
    "from nltk.stem.porter import PorterStemmer\n",
    "from nltk.stem.snowball import SnowballStemmer\n",
    "# nltk.download('stopwords')\n",
    "from nltk.corpus import wordnet\n",
    "from nltk.stem import WordNetLemmatizer\n",
    "from tool_function import EMOTICONS, chat_words_str\n",
    "\n",
    "import re\n",
    "import emoji\n",
    "from textblob import TextBlob\n",
    "\n",
    "def remove_punctuation(text):\n",
    "    PUNCT_TO_REMOVE = string.punctuation\n",
    "    return text.translate(str.maketrans('', '', PUNCT_TO_REMOVE))\n",
    "\n",
    "\n",
    "def remove_stopwords(text):\n",
    "    STOPWORDS = set(stopwords.words('english'))\n",
    "    return \" \".join([word for word in str(text).split() if word not in STOPWORDS])\n",
    "\n",
    "\n",
    "\n",
    "def lemmatize_words(text):\n",
    "    lemmatizer = WordNetLemmatizer()\n",
    "    wordnet_map = {\"N\":wordnet.NOUN, \"V\":wordnet.VERB, \"J\":wordnet.ADJ, \"R\":wordnet.ADV}\n",
    "    pos_tagged_text = nltk.pos_tag(text.split())\n",
    "    return \" \".join([lemmatizer.lemmatize(word, wordnet_map.get(pos[0], wordnet.NOUN)) for word, pos in pos_tagged_text])\n"
   ]
  },
  {
   "cell_type": "code",
   "execution_count": 49,
   "id": "04d51d59",
   "metadata": {},
   "outputs": [],
   "source": [
    "df_trainset = pd.read_csv('data/train_val_out1.csv', sep = \",\",index_col=0)\n",
    "def prepreocess1(df_trainset):\n",
    "    df_trainset = df_trainset.sample(frac=1).reset_index(drop=True)\n",
    "    df_trainset['text'] = df_trainset['text'].str.lower()\n",
    "    df_trainset['text'] = df_trainset['text'].apply(lambda text: remove_punctuation(text))\n",
    "    df_trainset['text'] = df_trainset['text'].apply(lambda text: remove_stopwords(text))\n",
    "    df_trainset['text'] = df_trainset[\"text\"].apply(lambda text: lemmatize_words(text))\n",
    "    return df_trainset\n",
    "df_trainset = prepreocess1(df_trainset)\n",
    "df_trainset.to_csv('data/train_prepreocess1.csv') \n",
    "# df_predict = prepreocess1(df_predict)\n",
    "# df_predict.to_csv('data/predict_prepreocess1.csv') \n"
   ]
  },
  {
   "cell_type": "markdown",
   "id": "a887c235",
   "metadata": {},
   "source": [
    "### data preprocessing，第二步驟如下:\n",
    "1. 在許多教學中示範刪除表情符號。 但是我認為本作業tweet為情感分析案例，表情符號提供了一些有價值的信息，因此刪除它們可能不是一個好的解決方案。本作業將表情符號轉換為文字格式，以便它們可以用於建模過程中識別，使用emoji.demojize(text)來進行還原。\n",
    "2. 除了Emoji外，emoticons 也利用1.相同的方式處理。\n",
    "3.再來則是移除所有URL，因為本作業為推特分析，那麼推文中很有可能會有一些 URL，需要刪除它們以進行進一步分析。\n",
    "4.除了URL之外，也需要刪除 html 標籤，因為推特有可能從不同網站抓取數據，這將也需要將其移除。\n",
    "5.推特作為社群軟體，人們在聊天中使用了很多縮寫詞，因此為了我們的分析目的，需要展開並了解這些詞的原文將有所幫助。\n",
    "6.最後則是進行拼音校正，希望在進行分析之前更正這些拼寫錯誤，本作業使用pyspellchecker 進行拼寫校正。\n"
   ]
  },
  {
   "cell_type": "code",
   "execution_count": 50,
   "id": "a88152f5",
   "metadata": {},
   "outputs": [],
   "source": [
    "def convert_emoticons(text):\n",
    "    \n",
    "    for emot in EMOTICONS:\n",
    "        text = re.sub(u'('+emot+')', \"_\".join(EMOTICONS[emot].replace(\",\",\"\").split()), text)\n",
    "    return text\n",
    "\n",
    "def remove_html(text):\n",
    "    html_pattern = re.compile('<.*?>')\n",
    "    return html_pattern.sub(r'', text)\n",
    "\n",
    "def remove_urls(text):\n",
    "    url_pattern = re.compile(r'https?://\\S+|www\\.\\S+')\n",
    "    return url_pattern.sub(r'', text)\n",
    "\n",
    "from spellchecker import SpellChecker\n",
    "\n",
    "\n",
    "def correct_spellings(text):\n",
    "    spell = SpellChecker()\n",
    "    corrected_text = []\n",
    "    misspelled_words = spell.unknown(text.split())\n",
    "    for word in text.split():\n",
    "        if word in misspelled_words:\n",
    "            corrected_text.append(spell.correction(word))\n",
    "        else:\n",
    "            corrected_text.append(word)\n",
    "    return \" \".join(corrected_text)\n",
    "        \n",
    "def chat_words_conversion(text):\n",
    "    chat_words_map_dict = {}\n",
    "    chat_words_list = []\n",
    "    for line in chat_words_str.split(\"\\n\"):\n",
    "        if line != \"\":\n",
    "            cw = line.split(\"=\")[0]\n",
    "            cw_expanded = line.split(\"=\")[1]\n",
    "            chat_words_list.append(cw)\n",
    "            chat_words_map_dict[cw] = cw_expanded\n",
    "    chat_words_list = set(chat_words_list)\n",
    "    new_text = []\n",
    "    for w in text.split():\n",
    "        if w.upper() in chat_words_list:\n",
    "            new_text.append(chat_words_map_dict[w.upper()])\n",
    "        else:\n",
    "            new_text.append(w)\n",
    "    return \" \".join(new_text)"
   ]
  },
  {
   "cell_type": "code",
   "execution_count": 51,
   "id": "fb4bedf5",
   "metadata": {},
   "outputs": [
    {
     "data": {
      "text/html": [
       "<div>\n",
       "<style scoped>\n",
       "    .dataframe tbody tr th:only-of-type {\n",
       "        vertical-align: middle;\n",
       "    }\n",
       "\n",
       "    .dataframe tbody tr th {\n",
       "        vertical-align: top;\n",
       "    }\n",
       "\n",
       "    .dataframe thead th {\n",
       "        text-align: right;\n",
       "    }\n",
       "</style>\n",
       "<table border=\"1\" class=\"dataframe\">\n",
       "  <thead>\n",
       "    <tr style=\"text-align: right;\">\n",
       "      <th></th>\n",
       "      <th>tweet_id</th>\n",
       "      <th>text</th>\n",
       "      <th>emotion</th>\n",
       "      <th>label</th>\n",
       "      <th>data_type</th>\n",
       "    </tr>\n",
       "  </thead>\n",
       "  <tbody>\n",
       "    <tr>\n",
       "      <th>0</th>\n",
       "      <td>0x20da91</td>\n",
       "      <td>get suggestion good book pleaseandthankyou goo...</td>\n",
       "      <td>anticipation</td>\n",
       "      <td>0</td>\n",
       "      <td>val</td>\n",
       "    </tr>\n",
       "    <tr>\n",
       "      <th>1</th>\n",
       "      <td>0x38f01b</td>\n",
       "      <td>girlsreallyrule insecure men leave nasty vile ...</td>\n",
       "      <td>sadness</td>\n",
       "      <td>1</td>\n",
       "      <td>val</td>\n",
       "    </tr>\n",
       "    <tr>\n",
       "      <th>2</th>\n",
       "      <td>0x208a2e</td>\n",
       "      <td>really enjoy see lawrence feel kinda way :smil...</td>\n",
       "      <td>fear</td>\n",
       "      <td>2</td>\n",
       "      <td>train</td>\n",
       "    </tr>\n",
       "  </tbody>\n",
       "</table>\n",
       "</div>"
      ],
      "text/plain": [
       "   tweet_id                                               text       emotion  \\\n",
       "0  0x20da91  get suggestion good book pleaseandthankyou goo...  anticipation   \n",
       "1  0x38f01b  girlsreallyrule insecure men leave nasty vile ...       sadness   \n",
       "2  0x208a2e  really enjoy see lawrence feel kinda way :smil...          fear   \n",
       "\n",
       "   label data_type  \n",
       "0      0       val  \n",
       "1      1       val  \n",
       "2      2     train  "
      ]
     },
     "execution_count": 51,
     "metadata": {},
     "output_type": "execute_result"
    }
   ],
   "source": [
    "# df_trainset = pd.read_csv('data/train_prepreocess1.csv', sep = \",\",index_col=0)\n",
    "# df_predict = pd.read_csv('data/predict_prepreocess1.csv', sep = \",\",index_col=0)\n",
    "def prepreocess2(df_trainset):\n",
    "    df_trainset['text'] = df_trainset[\"text\"].apply(lambda text: convert_emoticons(text))\n",
    "    df_trainset['text'] = df_trainset[\"text\"].apply(lambda text: emoji.demojize(text))\n",
    "    df_trainset['text'] = df_trainset[\"text\"].apply(lambda text: remove_urls(text))\n",
    "    df_trainset['text'] = df_trainset[\"text\"].apply(lambda text: remove_html(text))\n",
    "    df_trainset['text'] = df_trainset[\"text\"].apply(lambda text: TextBlob(text))\n",
    "    df_trainset['text'] = df_trainset[\"text\"].apply(lambda text: chat_words_conversion(text))\n",
    "    return df_trainset\n",
    "    \n",
    "# df_predict = prepreocess2(df_predict)    \n",
    "# df_predict.to_csv('data/predict_prepreocess2.csv') \n",
    "\n",
    "df_trainset = prepreocess2(df_trainset)\n",
    "df_trainset.to_csv('data/train_prepreocess2.csv') \n",
    "df_trainset.head(3)"
   ]
  },
  {
   "cell_type": "code",
   "execution_count": 52,
   "id": "ac5bd6ec",
   "metadata": {},
   "outputs": [
    {
     "data": {
      "text/html": [
       "<div>\n",
       "<style scoped>\n",
       "    .dataframe tbody tr th:only-of-type {\n",
       "        vertical-align: middle;\n",
       "    }\n",
       "\n",
       "    .dataframe tbody tr th {\n",
       "        vertical-align: top;\n",
       "    }\n",
       "\n",
       "    .dataframe thead th {\n",
       "        text-align: right;\n",
       "    }\n",
       "</style>\n",
       "<table border=\"1\" class=\"dataframe\">\n",
       "  <thead>\n",
       "    <tr style=\"text-align: right;\">\n",
       "      <th></th>\n",
       "      <th>tweet_id</th>\n",
       "      <th>emotion_x</th>\n",
       "      <th>text</th>\n",
       "      <th>emotion_y</th>\n",
       "    </tr>\n",
       "  </thead>\n",
       "  <tbody>\n",
       "    <tr>\n",
       "      <th>0</th>\n",
       "      <td>0x2c7743</td>\n",
       "      <td>surprise</td>\n",
       "      <td>friend offer bring food :loudly_crying_face::h...</td>\n",
       "      <td>NaN</td>\n",
       "    </tr>\n",
       "    <tr>\n",
       "      <th>1</th>\n",
       "      <td>0x2c1eed</td>\n",
       "      <td>surprise</td>\n",
       "      <td>ive never let money problem stop treat pray li...</td>\n",
       "      <td>NaN</td>\n",
       "    </tr>\n",
       "    <tr>\n",
       "      <th>2</th>\n",
       "      <td>0x2826ea</td>\n",
       "      <td>surprise</td>\n",
       "      <td>kurtschlichter hobby historian chelsea let say...</td>\n",
       "      <td>NaN</td>\n",
       "    </tr>\n",
       "  </tbody>\n",
       "</table>\n",
       "</div>"
      ],
      "text/plain": [
       "   tweet_id emotion_x                                               text  \\\n",
       "0  0x2c7743  surprise  friend offer bring food :loudly_crying_face::h...   \n",
       "1  0x2c1eed  surprise  ive never let money problem stop treat pray li...   \n",
       "2  0x2826ea  surprise  kurtschlichter hobby historian chelsea let say...   \n",
       "\n",
       "   emotion_y  \n",
       "0        NaN  \n",
       "1        NaN  \n",
       "2        NaN  "
      ]
     },
     "execution_count": 52,
     "metadata": {},
     "output_type": "execute_result"
    }
   ],
   "source": [
    "df_predict_preprocess = pd.read_csv('data/predict_prepreocess2.csv', sep = \",\",index_col=0)\n",
    "df_predict_preprocess=pd.merge(df_sample, df_predict_preprocess,how=\"left\",on=\"tweet_id\")\n",
    "df_predict_preprocess.to_csv('data/pred_preprocess.csv') \n",
    "df_predict_preprocess.head(3)"
   ]
  },
  {
   "cell_type": "markdown",
   "id": "4e6c81a7",
   "metadata": {},
   "source": [
    "# Buliding Model"
   ]
  },
  {
   "cell_type": "markdown",
   "id": "ebf29a36",
   "metadata": {},
   "source": [
    "### 在pre-processing 階段發現本作業的資料量過大，因此先隨機挑選各個類別50筆資料來進行訓練，確認模型沒問題後再來增加訓練量"
   ]
  },
  {
   "cell_type": "markdown",
   "id": "1bfba45c",
   "metadata": {},
   "source": [
    "### BERT\n",
    "本作業首先使用BERT進行處理，BERT是一種由谷歌開發預訓練(pre-training)語言表示的新方法，他在 Sentence Classification 有十分實用的功能，最直接的方法是使用它來對單個文本進行分類，本研究參考: http://jalammar.github.io/illustrated-bert/ 並先使用文本最大長度max_length=256進行encode，接著在截選最適合的max_length。\n",
    "### 利用 tokenizer.encode 來辨別訓練資料集中的長度，可以發現將max_length設為 100 即可。"
   ]
  },
  {
   "cell_type": "code",
   "execution_count": 54,
   "id": "ce4f2f92",
   "metadata": {},
   "outputs": [
    {
     "data": {
      "text/plain": [
       "Text(0.5, 8.441599999999994, 'Token count')"
      ]
     },
     "execution_count": 54,
     "metadata": {},
     "output_type": "execute_result"
    },
    {
     "data": {
      "image/png": "[encoded data removed]",
      "text/plain": [
       "<Figure size 360x360 with 1 Axes>"
      ]
     },
     "metadata": {},
     "output_type": "display_data"
    }
   ],
   "source": [
    "from transformers import BertTokenizer\n",
    "from torch.utils.data import TensorDataset\n",
    "import torch\n",
    "import pandas as pd\n",
    "from tqdm.notebook import tqdm\n",
    "from transformers import logging\n",
    "logging.set_verbosity_error()\n",
    "tokenizer = BertTokenizer.from_pretrained('bert-base-uncased', do_lower_case=True)\n",
    "\n",
    "token_lens = []\n",
    "for txt in df_trainset.text:\n",
    "    tokens = tokenizer.encode(txt, max_length=512,truncation=True)\n",
    "    token_lens.append(len(tokens))\n",
    "sns.displot(token_lens)\n",
    "plt.xlim([0, 256]);\n",
    "plt.xlabel('Token count')\n"
   ]
  },
  {
   "cell_type": "markdown",
   "id": "d60b1085",
   "metadata": {},
   "source": [
    "### 將資料切分為train 以及 validation dataset，以此來評估模型的好壞。\n",
    "### 設定tokenizer.batch_encode_plus以及TensorDataset，並打包成pkl檔案"
   ]
  },
  {
   "cell_type": "code",
   "execution_count": 56,
   "id": "1b5522d5",
   "metadata": {},
   "outputs": [
    {
     "name": "stdout",
     "output_type": "stream",
     "text": [
      "*** len(dataset_train) ***\n",
      "850\n",
      "*** len(dataset_val) ***\n",
      "150\n"
     ]
    }
   ],
   "source": [
    "\n",
    "MAX_LENGTH = 100\n",
    "\n",
    "encoded_data_train = tokenizer.batch_encode_plus\\\n",
    "    (df_trainset[df_trainset.data_type=='train'].text.values,add_special_tokens=True,\\\n",
    "     return_attention_mask=True,padding=True,\\\n",
    "         max_length=MAX_LENGTH,return_tensors='pt',truncation=True)\n",
    "\n",
    "encoded_data_val= tokenizer.batch_encode_plus\\\n",
    "    (df_trainset[df_trainset.data_type=='val'].text.values,add_special_tokens=True,\\\n",
    "     return_attention_mask=True,padding=True,\\\n",
    "         max_length=MAX_LENGTH,return_tensors='pt',truncation=True)\n",
    "        \n",
    "input_ids_train = encoded_data_train['input_ids']\n",
    "attention_masks_train = encoded_data_train['attention_mask']\n",
    "labels_train = torch.tensor(df_trainset[df_trainset.data_type=='train'].label.values)\n",
    "        \n",
    "input_ids_val = encoded_data_val['input_ids']\n",
    "attention_masks_val= encoded_data_val['attention_mask']\n",
    "labels_val = torch.tensor(df_trainset[df_trainset.data_type=='val'].label.values)\n",
    "\n",
    "\n",
    "dataset_train = TensorDataset(input_ids_train, attention_masks_train, labels_train)\n",
    "dataset_val = TensorDataset(input_ids_val, attention_masks_val, labels_val)\n",
    "print('*** len(dataset_train) ***')\n",
    "print(len(dataset_train))\n",
    "print('*** len(dataset_val) ***')\n",
    "print(len(dataset_val))\n",
    "\n",
    "torch.save(dataset_train, 'data/base_dataset_train.pkl')\n",
    "torch.save(dataset_val, 'data/base_dataset_val.pkl')"
   ]
  },
  {
   "cell_type": "markdown",
   "id": "3ffd642f",
   "metadata": {},
   "source": [
    "### 設定 BERT Pretrained Model\n",
    "### 設定 Optimizer and Scheduler，先使用簡單的模型以及少量的batch_size以及epochs，屆時會以其他更高效能電腦進行訓練。"
   ]
  },
  {
   "cell_type": "code",
   "execution_count": 58,
   "id": "56bd27be",
   "metadata": {},
   "outputs": [],
   "source": [
    "# Setting up BERT Pretrained Model\n",
    "\n",
    "from transformers import BertForSequenceClassification\n",
    "from transformers import AdamW, get_linear_schedule_with_warmup\n",
    "from torch.utils.data import DataLoader, RandomSampler, SequentialSampler\n",
    "\n",
    "model = BertForSequenceClassification.from_pretrained\\\n",
    "    ('bert-base-uncased', num_labels = len(label_dict), \\\n",
    "     output_attentions=False,output_hidden_states=False)\n",
    "\n",
    "batch_size = 32\n",
    "dataloader_train = DataLoader(dataset_train,sampler=RandomSampler\\\n",
    "                              (dataset_train),batch_size=batch_size, shuffle=False)\n",
    "dataloader_val = DataLoader(dataset_val,sampler=RandomSampler\\\n",
    "                            (dataset_val),batch_size=batch_size, shuffle=False)\n",
    "\n",
    "\n",
    "optimizer =  torch.optim.AdamW(model.parameters(),lr=1e-5, #2e-5 > 5e-5 \n",
    "                 eps=1e-8)\n",
    "epochs=2\n",
    "\n",
    "scheduler = get_linear_schedule_with_warmup\\\n",
    "    (optimizer,num_warmup_steps=0,num_training_steps=\\\n",
    "     len(dataloader_train)*epochs)"
   ]
  },
  {
   "cell_type": "markdown",
   "id": "51d16408",
   "metadata": {},
   "source": [
    "### 設定Performance Metrics 以及 Training Loop"
   ]
  },
  {
   "cell_type": "code",
   "execution_count": 59,
   "id": "698b1eb3",
   "metadata": {},
   "outputs": [
    {
     "name": "stdout",
     "output_type": "stream",
     "text": [
      "*************\n",
      "cpu\n"
     ]
    }
   ],
   "source": [
    "import numpy as np\n",
    "from sklearn.metrics import f1_score\n",
    "import torch\n",
    "# export PYTORCH_CUDA_ALLOC_CONF=max_split_size_mb:1280\n",
    "torch.cuda.empty_cache()\n",
    "\n",
    "def score_func(preds, labels):\n",
    "    preds_flat = np.argmax(preds, axis=1).flatten()\n",
    "    labels_flat = labels.flatten()\n",
    "    return f1_score(labels_flat, preds_flat, average='weighted')\n",
    "def class_accuracy(preds, labels):\n",
    "    labels_dict_inverse = {v: k for k,v in label_dict.items()}\n",
    "    \n",
    "    preds_flat = np.argmax(preds,axis=1).flatten()\n",
    "    labels_flat = labels.flatten()\n",
    "    \n",
    "    for label in np.unique(labels_flat):\n",
    "        y_preds = preds_flat[labels_flat==label]\n",
    "        y_true = labels_flat[labels_flat==label]\n",
    "        print(f'Class: {labels_dict_inverse[label]}')\n",
    "        print(f'Accuracy: {len(y_preds[y_preds==label])}/{len(y_true)}\\n')\n",
    "def evaluate(dataloader_val):\n",
    "\n",
    "    model.eval()\n",
    "    \n",
    "    loss_val_total = 0\n",
    "    predictions, true_vals = [], []\n",
    "    \n",
    "    for batch in dataloader_val:\n",
    "        \n",
    "        batch = tuple(b.to(device) for b in batch)\n",
    "        \n",
    "        inputs = {'input_ids':      batch[0],\n",
    "                  'attention_mask': batch[1],\n",
    "                  'labels':         batch[2],\n",
    "                 }\n",
    "\n",
    "        with torch.no_grad():        \n",
    "            outputs = model(**inputs)\n",
    "            \n",
    "        loss = outputs[0]\n",
    "        logits = outputs[1]\n",
    "        loss_val_total += loss.item()\n",
    "\n",
    "        logits = logits.detach().cpu().numpy()\n",
    "        label_ids = inputs['labels'].cpu().numpy()\n",
    "        predictions.append(logits)\n",
    "        true_vals.append(label_ids)\n",
    "    \n",
    "    loss_val_avg = loss_val_total/len(dataloader_val) \n",
    "    \n",
    "    predictions = np.concatenate(predictions, axis=0)\n",
    "    true_vals = np.concatenate(true_vals, axis=0)\n",
    "            \n",
    "    return loss_val_avg, predictions, true_vals\n",
    "import random\n",
    "\n",
    "seed_val = 8\n",
    "random.seed(seed_val)\n",
    "np.random.seed(seed_val)\n",
    "torch.manual_seed(seed_val)\n",
    "torch.cuda.manual_seed_all(seed_val)\n",
    "\n",
    "device = torch.device(\"cpu\")\n",
    "model.to(device)\n",
    "\n",
    "print('*************')\n",
    "print(device)"
   ]
  },
  {
   "cell_type": "markdown",
   "id": "519b5b38",
   "metadata": {},
   "source": [
    "### 開始進行訓練，並記錄loss以及在每一個epoch後儲存model以及利用validation dataset來辨別目前 f1 score。\n",
    "### 由於訓練的資料量過少，因此F1 score僅有0.17左右。\n",
    "### 本研究曾經嘗試利用全部近150萬筆資料，但是一個epoch運算時間超過1天，硬體的持有人也需要使用，因此無法配合借我使。因此本研究只能利用近100萬筆資料訓練，但是效果也十分良好，F1 score可以達到0.4835。"
   ]
  },
  {
   "cell_type": "code",
   "execution_count": 60,
   "id": "5a1e2ee5",
   "metadata": {},
   "outputs": [
    {
     "data": {
      "application/vnd.jupyter.widget-view+json": {
       "model_id": "c37c55725b0b48518e40fd1e8fbcc9e6",
       "version_major": 2,
       "version_minor": 0
      },
      "text/plain": [
       "  0%|          | 0/2 [00:00<?, ?it/s]"
      ]
     },
     "metadata": {},
     "output_type": "display_data"
    },
    {
     "data": {
      "application/vnd.jupyter.widget-view+json": {
       "model_id": "",
       "version_major": 2,
       "version_minor": 0
      },
      "text/plain": [
       "Epoch 1:   0%|          | 0/27 [00:00<?, ?it/s]"
      ]
     },
     "metadata": {},
     "output_type": "display_data"
    },
    {
     "name": "stdout",
     "output_type": "stream",
     "text": [
      "\n",
      "Epoch {epoch}\n",
      "Training loss: {loss_train_avg}\n",
      "Validation loss: 1.8966368198394776\n",
      "F1 Score (weighted): 0.1692047377326565\n"
     ]
    },
    {
     "data": {
      "application/vnd.jupyter.widget-view+json": {
       "model_id": "",
       "version_major": 2,
       "version_minor": 0
      },
      "text/plain": [
       "Epoch 2:   0%|          | 0/27 [00:00<?, ?it/s]"
      ]
     },
     "metadata": {},
     "output_type": "display_data"
    },
    {
     "name": "stdout",
     "output_type": "stream",
     "text": [
      "\n",
      "Epoch {epoch}\n",
      "Training loss: {loss_train_avg}\n",
      "Validation loss: 1.8750117778778077\n",
      "F1 Score (weighted): 0.16666666666666666\n"
     ]
    }
   ],
   "source": [
    "import torch\n",
    "torch.cuda.empty_cache()\n",
    "\n",
    "for epoch in tqdm(range(1, epochs+1)):\n",
    "    \n",
    "    model.train()\n",
    "    \n",
    "    loss_train_total = 0\n",
    "    \n",
    "    progress_bar =  tqdm(dataloader_train, desc='Epoch {:1d}'.format(epoch),leave=False,disable=False)\n",
    "    \n",
    "    for batch in progress_bar:\n",
    "        \n",
    "        model.zero_grad()\n",
    "        \n",
    "        batch = tuple(b.to(device) for b in batch)\n",
    "        \n",
    "        inputs = {\n",
    "            'input_ids' : batch[0],\n",
    "            'attention_mask' : batch[1],\n",
    "            'labels' : batch[2]\n",
    "            \n",
    "        }\n",
    "        \n",
    "        outputs = model(**inputs)\n",
    "        \n",
    "        loss = outputs[0]\n",
    "        loss_train_total += loss.item()\n",
    "        loss.backward()\n",
    "        \n",
    "        torch.nn.utils.clip_grad_norm_(model.parameters(), 1.0)\n",
    "        \n",
    "        optimizer.step()\n",
    "        scheduler.step()\n",
    "        \n",
    "        progress_bar.set_postfix({'training_loss' : '{:.3f}'.format(loss.item()/len(batch))})\n",
    "        \n",
    "    #torch.save(model.state_dict(), f'Models/BERT_ft_epoch{epoch}.model')\n",
    "    \n",
    "    tqdm.write('\\nEpoch {epoch}')\n",
    "    \n",
    "    loss_train_avg = loss_train_total/len(dataloader_train)\n",
    "    tqdm.write('Training loss: {loss_train_avg}')\n",
    "    \n",
    "    val_loss, predictions, true_vals = evaluate(dataloader_val)\n",
    "    val_f1 = score_func(predictions, true_vals)\n",
    "    tqdm.write(f'Validation loss: {val_loss}')\n",
    "    tqdm.write(f'F1 Score (weighted): {val_f1}')"
   ]
  },
  {
   "cell_type": "markdown",
   "id": "bd97b92f",
   "metadata": {},
   "source": [
    "### 從validation data來看各類別的準確率可以發現，由於訓練資料過少，且各類別的資料量並不均衡，因此本次的結果十分不理想，模型選擇將所有內容均預測為joy，未來在高效能電腦訓練模型時，應可以有效排除這樣的結果。"
   ]
  },
  {
   "cell_type": "code",
   "execution_count": 61,
   "id": "928ef524",
   "metadata": {},
   "outputs": [
    {
     "name": "stdout",
     "output_type": "stream",
     "text": [
      "Class: anticipation\n",
      "Accuracy: 0/28\n",
      "\n",
      "Class: sadness\n",
      "Accuracy: 0/22\n",
      "\n",
      "Class: fear\n",
      "Accuracy: 0/7\n",
      "\n",
      "Class: joy\n",
      "Accuracy: 50/50\n",
      "\n",
      "Class: anger\n",
      "Accuracy: 0/3\n",
      "\n",
      "Class: trust\n",
      "Accuracy: 0/21\n",
      "\n",
      "Class: disgust\n",
      "Accuracy: 0/13\n",
      "\n",
      "Class: surprise\n",
      "Accuracy: 0/6\n",
      "\n"
     ]
    }
   ],
   "source": [
    "_, predictions, true_vals = evaluate(dataloader_val)\n",
    "class_accuracy(predictions, true_vals )"
   ]
  },
  {
   "cell_type": "markdown",
   "id": "af398d21",
   "metadata": {},
   "source": [
    "### 再來則是利用已經完成pre-process的test data來進行預測，首先來觀察資料的型式，可以看到text value已完成訓練，再來則是利用模型進行預測，encoded data的方式與train data 一樣，使用tokenizer.batch_encode_plus以及相同的參數，最後的結果可以參考下圖。"
   ]
  },
  {
   "cell_type": "code",
   "execution_count": 64,
   "id": "f2e36627",
   "metadata": {},
   "outputs": [
    {
     "name": "stdout",
     "output_type": "stream",
     "text": [
      "   tweet_id   emotion\n",
      "0  0x2c7743  surprise\n",
      "1  0x2c1eed  surprise\n",
      "2  0x2826ea  surprise\n"
     ]
    },
    {
     "data": {
      "text/html": [
       "<div>\n",
       "<style scoped>\n",
       "    .dataframe tbody tr th:only-of-type {\n",
       "        vertical-align: middle;\n",
       "    }\n",
       "\n",
       "    .dataframe tbody tr th {\n",
       "        vertical-align: top;\n",
       "    }\n",
       "\n",
       "    .dataframe thead th {\n",
       "        text-align: right;\n",
       "    }\n",
       "</style>\n",
       "<table border=\"1\" class=\"dataframe\">\n",
       "  <thead>\n",
       "    <tr style=\"text-align: right;\">\n",
       "      <th></th>\n",
       "      <th>tweet_id</th>\n",
       "      <th>text</th>\n",
       "      <th>label</th>\n",
       "    </tr>\n",
       "  </thead>\n",
       "  <tbody>\n",
       "    <tr>\n",
       "      <th>0</th>\n",
       "      <td>0x2c7743</td>\n",
       "      <td>friend offer bring food :loudly_crying_face::h...</td>\n",
       "      <td>0</td>\n",
       "    </tr>\n",
       "    <tr>\n",
       "      <th>1</th>\n",
       "      <td>0x2c1eed</td>\n",
       "      <td>ive never let money problem stop treat pray li...</td>\n",
       "      <td>0</td>\n",
       "    </tr>\n",
       "    <tr>\n",
       "      <th>2</th>\n",
       "      <td>0x2826ea</td>\n",
       "      <td>kurtschlichter hobby historian chelsea let say...</td>\n",
       "      <td>0</td>\n",
       "    </tr>\n",
       "  </tbody>\n",
       "</table>\n",
       "</div>"
      ],
      "text/plain": [
       "   tweet_id                                               text  label\n",
       "0  0x2c7743  friend offer bring food :loudly_crying_face::h...      0\n",
       "1  0x2c1eed  ive never let money problem stop treat pray li...      0\n",
       "2  0x2826ea  kurtschlichter hobby historian chelsea let say...      0"
      ]
     },
     "execution_count": 64,
     "metadata": {},
     "output_type": "execute_result"
    }
   ],
   "source": [
    "df_predict =  pd.read_csv('data/predict_older.csv', sep = \",\",index_col=0)\n",
    "print(df_sample.head(3))\n",
    "df_predict['label'] = 0\n",
    "df_predict = df_predict.drop(['emotion_x', 'emotion_y'], axis=1)\n",
    "df_predict.head(3)"
   ]
  },
  {
   "cell_type": "code",
   "execution_count": 66,
   "id": "3c75bbc6",
   "metadata": {},
   "outputs": [
    {
     "name": "stdout",
     "output_type": "stream",
     "text": [
      "(411972, 4)\n"
     ]
    },
    {
     "data": {
      "text/html": [
       "<div>\n",
       "<style scoped>\n",
       "    .dataframe tbody tr th:only-of-type {\n",
       "        vertical-align: middle;\n",
       "    }\n",
       "\n",
       "    .dataframe tbody tr th {\n",
       "        vertical-align: top;\n",
       "    }\n",
       "\n",
       "    .dataframe thead th {\n",
       "        text-align: right;\n",
       "    }\n",
       "</style>\n",
       "<table border=\"1\" class=\"dataframe\">\n",
       "  <thead>\n",
       "    <tr style=\"text-align: right;\">\n",
       "      <th></th>\n",
       "      <th>id</th>\n",
       "      <th>emotion</th>\n",
       "    </tr>\n",
       "  </thead>\n",
       "  <tbody>\n",
       "    <tr>\n",
       "      <th>0</th>\n",
       "      <td>0x2c7743</td>\n",
       "      <td>joy</td>\n",
       "    </tr>\n",
       "    <tr>\n",
       "      <th>1</th>\n",
       "      <td>0x2c1eed</td>\n",
       "      <td>joy</td>\n",
       "    </tr>\n",
       "    <tr>\n",
       "      <th>2</th>\n",
       "      <td>0x2826ea</td>\n",
       "      <td>joy</td>\n",
       "    </tr>\n",
       "  </tbody>\n",
       "</table>\n",
       "</div>"
      ],
      "text/plain": [
       "         id emotion\n",
       "0  0x2c7743     joy\n",
       "1  0x2c1eed     joy\n",
       "2  0x2826ea     joy"
      ]
     },
     "execution_count": 66,
     "metadata": {},
     "output_type": "execute_result"
    }
   ],
   "source": [
    "\n",
    "review_text = pd.read_csv('data/predict_older.csv', sep = \",\",index_col=0)\n",
    "print(review_text.shape)\n",
    "review_text = review_text.drop(['emotion_x', 'emotion_y'], axis=1)\n",
    "review_text['label'] = 0\n",
    "review_text = review_text.groupby('label').head(10)\n",
    "encoded_data_test= tokenizer.batch_encode_plus\\\n",
    "    (review_text.text.values ,add_special_tokens=True,\\\n",
    "     return_attention_mask=True,padding=True,\\\n",
    "         max_length=100,return_tensors='pt',truncation=True)\n",
    "\n",
    "input_ids_test = encoded_data_test['input_ids']\n",
    "attention_masks_test= encoded_data_test['attention_mask']\n",
    "labels_test = torch.tensor(review_text.label.values)\n",
    "\n",
    "dataset_test = TensorDataset(input_ids_test, attention_masks_test, labels_test)\n",
    "this_batch = 128\n",
    "dataloader_test = DataLoader(dataset_test, sampler=None,batch_size=this_batch, shuffle=False)\n",
    "\n",
    "def evaluate_one(dataloader):\n",
    "    model.eval()\n",
    "    loss_val_total = 0\n",
    "    predictions, true_vals = [], []\n",
    "    for batch in dataloader:\n",
    "        batch = tuple(b.to(device) for b in batch)\n",
    "        inputs = {'input_ids':      batch[0],\n",
    "                  'attention_mask': batch[1],\n",
    "                  'labels':         batch[2],\n",
    "                 }\n",
    "        with torch.no_grad():        \n",
    "            outputs = model(**inputs)\n",
    "        # no use for output[3]    \n",
    "        loss = outputs[0]\n",
    "        logits = outputs[1]\n",
    "        loss_val_total += loss.item()\n",
    "        logits = logits.detach().cpu().numpy()\n",
    "        predictions.append(logits)\n",
    "    \n",
    "    loss_val_avg = loss_val_total/len(dataloader) \n",
    "    predictions = np.concatenate(predictions, axis=0)\n",
    "    preds_flat = np.argmax(predictions,axis=1).flatten()\n",
    "    labels_dict_inverse = {v: k for k,v in label_dict.items()}\n",
    "    total_pred_label = []\n",
    "    for label in (preds_flat):\n",
    "        pred_label = labels_dict_inverse[label]\n",
    "        total_pred_label.append(pred_label)\n",
    "    return loss_val_avg, predictions, total_pred_label\n",
    "\n",
    "loss_val_avg, predictions, label_ans = evaluate_one(dataloader_test)\n",
    "review_text['emotion'] = label_ans\n",
    "review_text = review_text.drop(['text', 'label'], axis=1)\n",
    "review_text = review_text.rename(columns={'tweet_id': 'id'})\n",
    "review_text.to_csv('data/final_predict.csv', index=False) \n",
    "review_text.head(3)\n"
   ]
  },
  {
   "cell_type": "markdown",
   "id": "95d5966f",
   "metadata": {},
   "source": [
    "# 總結"
   ]
  },
  {
   "cell_type": "markdown",
   "id": "8a07255a",
   "metadata": {},
   "source": [
    "### 首先從lab2開始，個人認為在教學期間，Lab2 的內容十分精彩與緊湊，學到很多有用的前處理與資料分析技巧，像是從feature_extraction 的工具CountVectorizer開始，再來則是建立模型，其中包含 DecisionTreeClassifier 或是 Naive Bayes model，最後則是 deep learning，除此之外也學到許多分析的工具，像是分析各類別的confusion matrix，或是sentence embedding techniques，讓機器能讀懂人類的語言以及訓練資料(Doc2Vec)，最後也實際操作GoogleNews資料及進行分析。\n",
    "### 但是對於本次的作業目標(Emotion recognition on Twitter)，這麼龐大與複雜的資料，在嘗試lab2所教學的工具之後，我發現F1 score和其他人相比並不是很理想，或許還有其他更加的模型以及能額外學習的部分。因此我利用BERT 以及 Transformers來進行訓練，也如願獲得更佳的分數，但是比較遺憾的是由於硬體的不足(高效能電腦的所有人也需要使用)，因此無法將所有140萬筆資料進行訓練，不過實際做過這樣的過程讓我收穫良多。"
   ]
  },
  {
   "cell_type": "code",
   "execution_count": null,
   "id": "759bbc2a",
   "metadata": {},
   "outputs": [],
   "source": []
  },
  {
   "cell_type": "code",
   "execution_count": null,
   "id": "ed280d06",
   "metadata": {},
   "outputs": [],
   "source": []
  }
 ],
 "metadata": {
  "kernelspec": {
   "display_name": "Python 3 (ipykernel)",
   "language": "python",
   "name": "python3"
  },
  "language_info": {
   "codemirror_mode": {
    "name": "ipython",
    "version": 3
   },
   "file_extension": ".py",
   "mimetype": "text/x-python",
   "name": "python",
   "nbconvert_exporter": "python",
   "pygments_lexer": "ipython3",
   "version": "3.8.8"
  }
 },
 "nbformat": 4,
 "nbformat_minor": 5
}
